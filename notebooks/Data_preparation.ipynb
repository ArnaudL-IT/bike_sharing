{
 "cells": [
  {
   "cell_type": "code",
   "execution_count": null,
   "metadata": {},
   "outputs": [],
   "source": [
    "import pandas as pd\n",
    "import matplotlib.pyplot as plt\n",
    "import seaborn as sns\n",
    "import numpy as np\n",
    "#import mpld3\n",
    "#mpld3.enable_notebook()\n",
    "\n",
    "# Import local packages\n",
    "from src.data_processing import load_csv_from_zip as lcfz\n",
    "\n",
    "pd.set_option('display.max_columns', None)\n",
    "pd.set_option('display.max_rows', None)\n",
    "%matplotlib inline"
   ]
  },
  {
   "cell_type": "code",
   "execution_count": null,
   "metadata": {},
   "outputs": [],
   "source": [
    "train, test = lcfz.read_csv_from_zip('./../data/input/bike-sharing-demand.zip', ['train.csv', 'test.csv'])"
   ]
  },
  {
   "cell_type": "markdown",
   "metadata": {},
   "source": [
    "## Define all the helper functions"
   ]
  },
  {
   "cell_type": "code",
   "execution_count": null,
   "metadata": {},
   "outputs": [],
   "source": [
    "def make_datetime_index(df):\n",
    "    df.set_index(pd.to_datetime(df.pop('datetime')), inplace=True)\n",
    "    return df"
   ]
  },
  {
   "cell_type": "code",
   "execution_count": null,
   "metadata": {},
   "outputs": [],
   "source": [
    "def make_datetime_features(df):\n",
    "    df['month'] = df.index.month\n",
    "    df['year'] = df.index.year\n",
    "    df['day'] = df.index.dayofweek\n",
    "    df['hour'] = df.index.hour\n",
    "    return df"
   ]
  },
  {
   "cell_type": "code",
   "execution_count": null,
   "metadata": {},
   "outputs": [],
   "source": [
    "def make_vacation_feature(df):\n",
    "    df['vacations'] = 0\n",
    "\n",
    "    df.loc['2011-04-15':'2011-04-25', 'vacations'] = 1\n",
    "    df.loc['2011-06-25':'2011-08-21', 'vacations'] = 1\n",
    "    df.loc['2011-12-22':'2012-01-02', 'vacations'] = 1\n",
    "    df.loc['2012-03-31':'2012-04-09', 'vacations'] = 1\n",
    "    df.loc['2012-06-23':'2012-08-26', 'vacations'] = 1\n",
    "    df.loc['2012-12-22':'2012-12-31', 'vacations'] = 1\n",
    "    return df"
   ]
  },
  {
   "cell_type": "code",
   "execution_count": null,
   "metadata": {},
   "outputs": [],
   "source": [
    "def select_features(df):\n",
    "    df.drop(columns=['temp'], inplace=True)\n",
    "    return df"
   ]
  },
  {
   "cell_type": "code",
   "execution_count": null,
   "metadata": {},
   "outputs": [],
   "source": [
    "def add_missing_rows(df):\n",
    "    temp = df.copy()\n",
    "    temp['delta_t'] = temp.index.to_series().diff()\n",
    "    temp['delta_t'].fillna(pd.Timedelta('0 hour'))\n",
    "    temp[(temp['delta_t']>pd.Timedelta('1 hours')) & (temp['delta_t']< pd.Timedelta('1 days'))]['delta_t']\n",
    "\n",
    "    last_row_before_gap = 0\n",
    "    return df"
   ]
  },
  {
   "cell_type": "code",
   "execution_count": null,
   "metadata": {},
   "outputs": [],
   "source": [
    "def remove_outlier(df):\n",
    "    index_list = df[(df['temp'] > 20) & (df['atemp'] < 15)].index\n",
    "    index_list.append(df[df['weather'] == 4].index)\n",
    "    df.drop(index=index_list, inplace=True)\n",
    "    return df"
   ]
  },
  {
   "cell_type": "code",
   "execution_count": null,
   "metadata": {},
   "outputs": [],
   "source": [
    "def target_to_log(df):\n",
    "    df['casual'] = np.log1p(df['casual'])\n",
    "    df['registered'] = np.log1p(df['registered'])\n",
    "    df['count'] = np.log1p(df['count'])\n",
    "    return df"
   ]
  },
  {
   "cell_type": "code",
   "execution_count": null,
   "metadata": {},
   "outputs": [],
   "source": [
    "def hour_to_cos(df):\n",
    "    df['second_harm'] = np.cos(4.0 * np.pi * df['hour'] / 24.0)\n",
    "    df['hour'] = np.cos(2.0 * np.pi * df['hour'] / 24.0)\n",
    "    return df"
   ]
  },
  {
   "cell_type": "code",
   "execution_count": null,
   "metadata": {},
   "outputs": [],
   "source": [
    "def hour_to_sin(df):\n",
    "    df['fourth_harm'] = np.sin(8.0 * np.pi * df['hour'] / 24.0 + 3.0 * np.pi / 12.0)\n",
    "    df['third_harm'] = np.sin(6.0 * np.pi * df['hour'] / 24.0 + 3.0 * np.pi / 12.0)\n",
    "    df['second_harm'] = np.sin(4.0 * np.pi * df['hour'] / 24.0 + 4.0 * np.pi / 12.0)\n",
    "    df['hour'] = np.sin(2.0 * np.pi * df['hour'] / 24.0 + 3.0 * np.pi / 12.0)\n",
    "    return df"
   ]
  },
  {
   "cell_type": "markdown",
   "metadata": {},
   "source": [
    "## Make a wrapper function for easier call"
   ]
  },
  {
   "cell_type": "code",
   "execution_count": null,
   "metadata": {},
   "outputs": [],
   "source": [
    "def train_prep(df):\n",
    "    df = make_datetime_index(df)\n",
    "    df = make_datetime_features(df)\n",
    "    df = make_vacation_feature(df)\n",
    "    df = remove_outlier(df)\n",
    "    df = select_features(df)\n",
    "    #df = hour_to_sin(df)\n",
    "    #df = add_missing_rows(df)  # Specific to training set\n",
    "    df = target_to_log(df)  # Specific to training set\n",
    "    return df"
   ]
  },
  {
   "cell_type": "code",
   "execution_count": null,
   "metadata": {},
   "outputs": [],
   "source": [
    "def test_prep(df):\n",
    "    df = make_datetime_index(df)\n",
    "    df = make_datetime_features(df)\n",
    "    df = make_vacation_feature(df)\n",
    "    df = select_features(df)\n",
    "    #df = hour_to_sin(df)\n",
    "    return df"
   ]
  },
  {
   "cell_type": "markdown",
   "metadata": {},
   "source": [
    "## Call wrapper function and create \"prepared\" datasets"
   ]
  },
  {
   "cell_type": "code",
   "execution_count": null,
   "metadata": {},
   "outputs": [],
   "source": [
    "train_prepared = train_prep(train.copy())\n",
    "test_prepared = test_prep(test.copy())"
   ]
  },
  {
   "cell_type": "code",
   "execution_count": null,
   "metadata": {},
   "outputs": [],
   "source": [
    "train_prepared.head()"
   ]
  },
  {
   "cell_type": "code",
   "execution_count": null,
   "metadata": {},
   "outputs": [],
   "source": [
    "test_prepared.head()"
   ]
  },
  {
   "cell_type": "markdown",
   "metadata": {},
   "source": [
    "## Save new datasets"
   ]
  },
  {
   "cell_type": "code",
   "execution_count": null,
   "metadata": {},
   "outputs": [],
   "source": [
    "train_prepared.to_csv(\"./../data/input/train_prepared.csv\")\n",
    "test_prepared.to_csv(\"./../data/input/test_prepared.csv\")"
   ]
  },
  {
   "cell_type": "code",
   "execution_count": null,
   "metadata": {},
   "outputs": [],
   "source": [
    "train_prepared.info()"
   ]
  },
  {
   "cell_type": "code",
   "execution_count": null,
   "metadata": {},
   "outputs": [],
   "source": [
    "train_prepared.describe()"
   ]
  },
  {
   "cell_type": "code",
   "execution_count": null,
   "metadata": {},
   "outputs": [],
   "source": []
  }
 ],
 "metadata": {
  "kernelspec": {
   "display_name": "Python 3",
   "language": "python",
   "name": "python3"
  },
  "language_info": {
   "codemirror_mode": {
    "name": "ipython",
    "version": 3
   },
   "file_extension": ".py",
   "mimetype": "text/x-python",
   "name": "python",
   "nbconvert_exporter": "python",
   "pygments_lexer": "ipython3",
   "version": "3.7.7"
  }
 },
 "nbformat": 4,
 "nbformat_minor": 4
}
