{
 "cells": [
  {
   "cell_type": "markdown",
   "metadata": {},
   "source": [
    "# Define environement variables and import the data"
   ]
  },
  {
   "cell_type": "code",
   "execution_count": null,
   "metadata": {},
   "outputs": [],
   "source": [
    "# Import external packages\n",
    "import pandas as pd\n",
    "import matplotlib.pyplot as plt\n",
    "import seaborn as sns\n",
    "import numpy as np\n",
    "from scipy import fft, signal\n",
    "#import mpld3\n",
    "#mpld3.enable_notebook()\n",
    "\n",
    "#import sys\n",
    "#sys.path.append('c:\\\\users\\\\arnaud\\\\documents\\\\travail\\\\ml_projects\\\\bike_sharing\\\\src\\\\data_processing')\n",
    "#sys.path.append('c:\\\\users\\\\arnaud\\\\documents\\\\travail\\\\ml_projects\\\\bike_sharing\\\\env\\\\lib\\\\site_packages')\n",
    "\n",
    "# Import local packages\n",
    "from src.data_processing import load_csv_from_zip as lcfz\n",
    "\n",
    "# Set some display options\n",
    "pd.set_option('display.max_columns', None)\n",
    "pd.set_option('display.max_rows', None)\n",
    "%matplotlib inline"
   ]
  },
  {
   "cell_type": "code",
   "execution_count": null,
   "metadata": {},
   "outputs": [],
   "source": [
    "train, test = lcfz.read_csv_from_zip('./../../data/input/bike-sharing-demand.zip', ['train.csv', 'test.csv'])"
   ]
  },
  {
   "cell_type": "markdown",
   "metadata": {},
   "source": [
    "# Look at the data structure"
   ]
  },
  {
   "cell_type": "code",
   "execution_count": null,
   "metadata": {},
   "outputs": [],
   "source": [
    "train.info()"
   ]
  },
  {
   "cell_type": "code",
   "execution_count": null,
   "metadata": {},
   "outputs": [],
   "source": [
    "train.isnull().sum()"
   ]
  },
  {
   "cell_type": "markdown",
   "metadata": {},
   "source": [
    "### Summary\n",
    "At first glance, the training set is made of 10886 records with no missing values.<br>\n",
    "The datetime column should be turned into a pandas.DatetimeIndex.<br>\n",
    "The count column is the target variable.<br>\n",
    "The casual and registered are not present in the test data and cannot be used for the ML algo.<br>\n",
    "There is one nominal variable: Season.<br>\n",
    "There are 2 binary variables: holiday, workingday.<br>\n",
    "There is 1 ordinal variable: Weather.<br>\n",
    "There are 4 continuous variables: temp, atemp, humidity, windspeed.<br>"
   ]
  },
  {
   "cell_type": "markdown",
   "metadata": {},
   "source": [
    "# Use the datetime column as the index to make data manipulation easier"
   ]
  },
  {
   "cell_type": "code",
   "execution_count": null,
   "metadata": {},
   "outputs": [],
   "source": [
    "train.set_index(pd.to_datetime(train.pop('datetime')), inplace=True)"
   ]
  },
  {
   "cell_type": "code",
   "execution_count": null,
   "metadata": {
    "scrolled": true
   },
   "outputs": [],
   "source": [
    "train['dayofweek'] = train.index.dayofweek\n",
    "train['dayofyear'] = train.index.dayofyear\n",
    "train['month'] = train.index.month\n",
    "train['year'] = train.index.year\n",
    "train['hour'] = train.index.hour\n",
    "\n",
    "train.sample(5)"
   ]
  },
  {
   "cell_type": "code",
   "execution_count": null,
   "metadata": {},
   "outputs": [],
   "source": [
    "train.year.unique()"
   ]
  },
  {
   "cell_type": "code",
   "execution_count": null,
   "metadata": {},
   "outputs": [],
   "source": [
    "train.year.value_counts()"
   ]
  },
  {
   "cell_type": "code",
   "execution_count": null,
   "metadata": {},
   "outputs": [],
   "source": [
    "train['2011'].month.value_counts().sort_index()"
   ]
  },
  {
   "cell_type": "markdown",
   "metadata": {},
   "source": [
    "For convenience, the date and time are converted into a DatetimeIndex and the hour, day, month and year components are extracted as individual features.\n",
    "\n",
    "We check that each period roughly has the same amount of data."
   ]
  },
  {
   "cell_type": "markdown",
   "metadata": {},
   "source": [
    "## Try to identifiy gaps in the data"
   ]
  },
  {
   "cell_type": "code",
   "execution_count": null,
   "metadata": {},
   "outputs": [],
   "source": [
    "train['delta_t'] = train.index.to_series().diff()\n",
    "train.head()"
   ]
  },
  {
   "cell_type": "code",
   "execution_count": null,
   "metadata": {},
   "outputs": [],
   "source": [
    "train['delta_t'].fillna(pd.Timedelta('0 hour'))\n",
    "train[(train['delta_t']>pd.Timedelta('1 hours')) & (train['delta_t']< pd.Timedelta('1 days'))]['delta_t']"
   ]
  },
  {
   "cell_type": "markdown",
   "metadata": {},
   "source": [
    "Here we just create a column holding the time delta (difference) from one row wrt the previous one. After that, we selected only the rows where this difference was greater than the regular sampling interval but also shorter than an entire day. We can notice that there are only a few records corresponding to this request and that they mostly occur at night. The missing rows probably correspond to hours where the 'count' value was equal to 0."
   ]
  },
  {
   "cell_type": "code",
   "execution_count": null,
   "metadata": {},
   "outputs": [],
   "source": [
    "train[(train['delta_t']>pd.Timedelta('1 day'))]['delta_t']"
   ]
  },
  {
   "cell_type": "markdown",
   "metadata": {},
   "source": [
    "This time, we look at the missing rows where the time delta is greater than 1 day. We notice that the 9 to 12 last days of each months are systematically missing. This correspond to the data that has been removed on purpose to create the test set."
   ]
  },
  {
   "cell_type": "code",
   "execution_count": null,
   "metadata": {},
   "outputs": [],
   "source": [
    "train.describe()"
   ]
  },
  {
   "cell_type": "markdown",
   "metadata": {},
   "source": [
    "One important thing to notice here is that the min of 'count' is 1 and not 0. Here, I will assume that when the 'delta_t' is only a few hours (only at night as can be seen above), there are no records because the value of 'count' is actually 0. <font color=red>It would be interesting to compare a ML algo with/-out adding rows when 'count' is 0.</font>\n",
    "\n",
    "One troubling thing in this data set are the values of the temp and atemp features. We can see here that the minimum temperature is positive. Knowing that this bike sharing program was in Washington DC and that winters can get pretty cold there, this seems unlikely to be the actual temperature. (To understand how I figured out that the program was in Washington DC, I suggest you dig in the \"holiday\" feature...)."
   ]
  },
  {
   "cell_type": "markdown",
   "metadata": {},
   "source": [
    "# Univariate and Bivariate analysis"
   ]
  },
  {
   "cell_type": "markdown",
   "metadata": {},
   "source": [
    "Let's now have a look at the features one by one to get a better feeling of what they represent and how can they impact our target variable."
   ]
  },
  {
   "cell_type": "code",
   "execution_count": null,
   "metadata": {},
   "outputs": [],
   "source": [
    "cat_features = ['season']\n",
    "ord_featuire = ['weather']\n",
    "bin_features = ['holiday', 'workingday']\n",
    "num_features = ['temp', 'atemp', 'humidity', 'windspeed']\n",
    "other_features = ['casual', 'registered']\n",
    "target_variable = ['count']"
   ]
  },
  {
   "cell_type": "markdown",
   "metadata": {},
   "source": [
    "## Categorical features"
   ]
  },
  {
   "cell_type": "markdown",
   "metadata": {},
   "source": [
    "### Season"
   ]
  },
  {
   "cell_type": "code",
   "execution_count": null,
   "metadata": {},
   "outputs": [],
   "source": [
    "fig, ax = plt.subplots(1,3, figsize=(15,5))\n",
    "train.boxplot(column='casual', by='season', ax=ax[0])\n",
    "train.boxplot(column='registered', by='season', ax=ax[1])\n",
    "train.boxplot(column='count', by='season', ax=ax[2])\n",
    "plt.savefig('./../../figs/boxplot_gb_season.png')\n",
    "plt.show()"
   ]
  },
  {
   "cell_type": "markdown",
   "metadata": {},
   "source": [
    "This box plot shows that there is a higher demand during spring and summer probably due to weather conditions (higher temperatures, less rain, ...). We can also notice that there is less variability for 'registered' customers than for 'casual' ones."
   ]
  },
  {
   "cell_type": "markdown",
   "metadata": {},
   "source": [
    "### Weather"
   ]
  },
  {
   "cell_type": "code",
   "execution_count": null,
   "metadata": {},
   "outputs": [],
   "source": [
    "fig, ax = plt.subplots(1,3, figsize=(15,5))\n",
    "train.boxplot(column='casual', by='weather', ax=ax[0])\n",
    "train.boxplot(column='registered', by='weather', ax=ax[1])\n",
    "train.boxplot(column='count', by='weather', ax=ax[2])\n",
    "plt.savefig('./../../figs/boxplot_gb_weather.png')\n",
    "plt.show()"
   ]
  },
  {
   "cell_type": "markdown",
   "metadata": {},
   "source": [
    "Here we see again that the better the weather, the higher the demand which makes sense. Also, we can notice that for the weather category #4, there is only 1 entry and its value is quite high. <font color=red>We might want to remove this record to avoid biasing our model.</font>"
   ]
  },
  {
   "cell_type": "markdown",
   "metadata": {},
   "source": [
    "## Numerical features"
   ]
  },
  {
   "cell_type": "markdown",
   "metadata": {},
   "source": [
    "### Temperature"
   ]
  },
  {
   "cell_type": "code",
   "execution_count": null,
   "metadata": {},
   "outputs": [],
   "source": [
    "train['temp_bin'] = pd.cut(train['temp'], 10)\n",
    "fig, ax = plt.subplots(2, 2, figsize=(16,9))\n",
    "train['temp'].plot(linewidth=0, marker='o', markersize=1, ax=ax[0][0])\n",
    "train.boxplot(column='casual', by='temp_bin', ax=ax[0][1], rot=45)\n",
    "train.boxplot(column='registered', by='temp_bin', ax=ax[1][0], rot=45)\n",
    "train.boxplot(column='count', by='temp_bin', ax=ax[1][1], rot=45)\n",
    "plt.savefig('./../../figs/boxplot_gb_temp.png')\n",
    "plt.show()"
   ]
  },
  {
   "cell_type": "markdown",
   "metadata": {},
   "source": [
    "We can observe here an anual modulation corresponding to the seasons. Hot in summer, cold in winter.\n",
    "\n",
    "There is a clear correlation between the temperature and the bike demand.\n",
    "For low temperatures, the demand by casual users is almost inexistant while registered users tend to keep using the bikes (seems reasonable).\n",
    "The demand increases with temperature and actually reaches a maximum for temperature in the range 2-35 degrees (according to the median, mean might be different).\n",
    "\n",
    "<font color='red'>One other thing to keep in mind is that temperatures are 'always' lower at night and higher during the day! At the same time, people probably tend to use the bikes more during the day than at night for independant reasons. So we might have so amount of colinearity between those features.</font>"
   ]
  },
  {
   "cell_type": "code",
   "execution_count": null,
   "metadata": {},
   "outputs": [],
   "source": [
    "train['atemp'].plot(linewidth=0, marker='o', markersize=1)\n",
    "plt.savefig('./../../figs/atemp_vs_date.png')\n",
    "plt.show()"
   ]
  },
  {
   "cell_type": "markdown",
   "metadata": {},
   "source": [
    "For some reason, the adjusted temperature looks worse than the simple temperature feature. There seems to be gaps in the data. <font color=red>I will have to check for multicolinearity for 'temp'/'atemp' and see if there is an advantage of using 'atemp' over 'temp'. If so, I should do something about those \"strange\" values. Recalculate 'atemp' from other variables? Use an ML algo for that?</font>"
   ]
  },
  {
   "cell_type": "markdown",
   "metadata": {},
   "source": [
    "### Humidity"
   ]
  },
  {
   "cell_type": "code",
   "execution_count": null,
   "metadata": {},
   "outputs": [],
   "source": [
    "train['humidity_bin'] = pd.cut(train['humidity'], 10)\n",
    "fig, ax = plt.subplots(2, 2, figsize=(16,9))\n",
    "train['humidity'].plot(linewidth=0, marker='o', markersize=1, ax=ax[0][0])\n",
    "train.boxplot(column='casual', by='humidity_bin', ax=ax[0][1], rot=45)\n",
    "train.boxplot(column='registered', by='humidity_bin', ax=ax[1][0], rot=45)\n",
    "train.boxplot(column='count', by='humidity_bin', ax=ax[1][1], rot=45)\n",
    "plt.savefig('./../../figs/boxplot_gb_humidity.png')\n",
    "plt.show()"
   ]
  },
  {
   "cell_type": "markdown",
   "metadata": {},
   "source": [
    "Regarding humidity, there is also a correlation with the demand. Very dry conditions (below 10% humidity) show little demand, and this is true for all types of users. Beyond 20% humidity, the demands slowly falls but is always higher than very dry conditions. "
   ]
  },
  {
   "cell_type": "markdown",
   "metadata": {},
   "source": [
    "### Windspeed"
   ]
  },
  {
   "cell_type": "code",
   "execution_count": null,
   "metadata": {},
   "outputs": [],
   "source": [
    "train['wind_bin'] = pd.cut(train['windspeed'], 10)\n",
    "fig, ax = plt.subplots(2, 2, figsize=(16,9))\n",
    "train['windspeed'].plot(linewidth=0, marker='o', markersize=1, ax=ax[0][0])\n",
    "train.boxplot(column='casual', by='wind_bin', ax=ax[0][1], rot=45)\n",
    "train.boxplot(column='registered', by='wind_bin', ax=ax[1][0], rot=45)\n",
    "train.boxplot(column='count', by='wind_bin', ax=ax[1][1], rot=45)\n",
    "plt.savefig('./../../figs/boxplot_gb_windspeed.png')\n",
    "plt.show()"
   ]
  },
  {
   "cell_type": "markdown",
   "metadata": {},
   "source": [
    "Finally for the windspeed feature, the demand seems pretty stable but the distribution of counts becomes more symmetric (less skewed, less outliers) at higher windspeed. As if users (casual or registered) that would use the bikes occasionnaly would not use them in strong wind conditions whereas people who tend to be very consistent using bikes still use them."
   ]
  },
  {
   "cell_type": "markdown",
   "metadata": {},
   "source": [
    "### Hour of the day"
   ]
  },
  {
   "cell_type": "code",
   "execution_count": null,
   "metadata": {},
   "outputs": [],
   "source": [
    "fig, ax = plt.subplots(2, 2, figsize=(16,9))\n",
    "train.groupby('hour')['count'].sum().plot(kind='bar', ax=ax[0][0])\n",
    "train.boxplot(column='casual', by='hour', ax=ax[0][1], rot=45)\n",
    "train.boxplot(column='registered', by='hour', ax=ax[1][0], rot=45)\n",
    "train.boxplot(column='count', by='hour', ax=ax[1][1], rot=45)\n",
    "plt.savefig('./../../figs/boxplot_gb_hour.png')\n",
    "plt.show()"
   ]
  },
  {
   "cell_type": "markdown",
   "metadata": {},
   "source": [
    "As we could have expected, the hour of the day is a very important feature to predict the bike demand. Also, something interesting to note here is that the profile for registered and casual users is quite different.\n",
    "\n",
    "While registered users seem to bike for work (higher demand around 8AM, 5/6PM) and little more at lunch time, casual users have a much smoother curve with a broad maximum peaking around 2/3PM.\n",
    "\n",
    "For this reason, it would be interesting to build <font color=red>2 separate models!</font> One to predict the number of registered users and another one for casual users. These two models will probably end up having different parameters and summing them up might result in better results than trying to predict the overall demand with a single model.\n",
    "\n",
    "<font color='red'>One more remark: Here we groupby hours regardless of the season of the year or the day of the week for example. It is expected that if we looked at 'registered' counts for weekdays only and excluding holidays and vacations, the correlation with the target variable would be even stronger!</font>"
   ]
  },
  {
   "cell_type": "markdown",
   "metadata": {},
   "source": [
    "### Day of the week"
   ]
  },
  {
   "cell_type": "code",
   "execution_count": null,
   "metadata": {},
   "outputs": [],
   "source": [
    "fig, ax = plt.subplots(2, 2, figsize=(16,9))\n",
    "train.groupby('dayofweek')['count'].sum().plot(kind='bar', ax=ax[0][0])\n",
    "train.boxplot(column='casual', by='dayofweek', ax=ax[0][1], rot=45)\n",
    "train.boxplot(column='registered', by='dayofweek', ax=ax[1][0], rot=45)\n",
    "train.boxplot(column='count', by='dayofweek', ax=ax[1][1], rot=45)\n",
    "plt.savefig('./../../figs/boxplot_gb_day.png')\n",
    "plt.show()"
   ]
  },
  {
   "cell_type": "markdown",
   "metadata": {},
   "source": [
    "Once again, the data behaves as expected with the demand from registered users being higher during the week and slightly lower during the weekend. For casual user, this is the other way around.\n",
    "\n",
    "This is another good reason why two independant models should be trained for registered and casual and the individual predictions summed up."
   ]
  },
  {
   "cell_type": "markdown",
   "metadata": {},
   "source": [
    "### Here let's look at the actual distribution for week days versus weekend in the case of registered and casual separately"
   ]
  },
  {
   "cell_type": "code",
   "execution_count": null,
   "metadata": {},
   "outputs": [],
   "source": [
    "countCasualWorkingday = train[train['workingday']==1]['casual'].sum()\n",
    "countCasualWeekend = train[train['workingday']==0]['casual'].sum()\n",
    "\n",
    "countRegisteredWorkingday = train[train['workingday']==1]['registered'].sum()\n",
    "countRegisteredWeekend = train[train['workingday']==0]['registered'].sum()\n",
    "\n",
    "print(countCasualWorkingday, countCasualWeekend, countRegisteredWorkingday, countRegisteredWeekend)"
   ]
  },
  {
   "cell_type": "code",
   "execution_count": null,
   "metadata": {},
   "outputs": [],
   "source": [
    "fig, ax = plt.subplots(2, 1, figsize=(16,9))\n",
    "train[train['workingday'] == 0]['casual'].hist(ax=ax[0], alpha=0.5, color='blue', bins=10, range=(0,400), density=True, label='non-workingday')\n",
    "train[train['workingday'] == 1]['casual'].hist(ax=ax[0], alpha=0.5, color='orange', bins=10, range=(0,400), density=True, label='workingday')\n",
    "train[train['workingday'] == 0]['registered'].hist(ax=ax[1], alpha=0.5, color='blue', range=(0,1000), density=True, label='non-workingday')\n",
    "train[train['workingday'] == 1]['registered'].hist(ax=ax[1], alpha=0.5, color='orange', range=(0,1000), density=True, label='workday')\n",
    "\n",
    "ax[0].legend()\n",
    "ax[0].set_title('Workdays and non-workdays for casual users')\n",
    "ax[0].set_ylabel('relative count')\n",
    "\n",
    "ax[1].legend()\n",
    "ax[1].set_title('Workdays and non-workdays for registered users')\n",
    "ax[1].set_xlabel('number of users')\n",
    "ax[1].set_ylabel('relative count')"
   ]
  },
  {
   "cell_type": "markdown",
   "metadata": {},
   "source": [
    "Here we have a better glimpse at the data from the previous boxplots. We can see that for casual users, the weekend usage has a much longer tail than the week usage where the demand is more peaked.\n",
    "Regarding registered users, we observe the opposit behavior. The distribution for work days has a longer tail.\n",
    "\n",
    "We can also notice that the distributions for registered users are a lot wider than the distributions for casual users."
   ]
  },
  {
   "cell_type": "markdown",
   "metadata": {},
   "source": [
    "### Month of the year"
   ]
  },
  {
   "cell_type": "code",
   "execution_count": null,
   "metadata": {},
   "outputs": [],
   "source": [
    "fig, ax = plt.subplots(2, 2, figsize=(16,9))\n",
    "train[['casual', 'registered', 'count']].resample('1M').mean().plot(ax=ax[0][0], alpha=0.5)\n",
    "train.boxplot(column='casual', by='month', ax=ax[0][1], rot=45)\n",
    "train.boxplot(column='registered', by='month', ax=ax[1][0], rot=45)\n",
    "train.boxplot(column='count', by='month', ax=ax[1][1], rot=45)\n",
    "plt.savefig('./../../figs/boxplot_gb_month.png')\n",
    "plt.show()"
   ]
  },
  {
   "cell_type": "markdown",
   "metadata": {},
   "source": [
    "Regarding the month of the year, we observe a similar pattern as we did with the season feature. The difference being that we have a higher granularity using the months.\n",
    "\n",
    "Another thing to notice is the drop in \"high\" demand (outliers and tail of the distributions) during the months of June, July, August for casual users. This behavior is much less pronounced for registered users but still appears.\n",
    "This is interesting because it correspond to a period of the year where children are on vacations and maybe, families are away from DC.\n",
    "\n",
    "As a consequence, we should look up the school vacation calendar for 2011/2012 and create a feature 'vacation'. This could improve the predictions of our model."
   ]
  },
  {
   "cell_type": "markdown",
   "metadata": {},
   "source": [
    "### Year"
   ]
  },
  {
   "cell_type": "code",
   "execution_count": null,
   "metadata": {},
   "outputs": [],
   "source": [
    "fig, ax = plt.subplots(2, 2, figsize=(16,9))\n",
    "train[['casual', 'registered', 'count']].resample('1Y').mean().plot(ax=ax[0][0], alpha=0.5)\n",
    "train.boxplot(column='casual', by='year', ax=ax[0][1], rot=45)\n",
    "train.boxplot(column='registered', by='year', ax=ax[1][0], rot=45)\n",
    "train.boxplot(column='count', by='year', ax=ax[1][1], rot=45)\n",
    "plt.savefig('./../../figs/boxplot_gb_year.png')\n",
    "plt.show()"
   ]
  },
  {
   "cell_type": "markdown",
   "metadata": {},
   "source": [
    "As we already saw with the month feature, there is an increase in usage from 2011 to 2012.\n",
    "\n",
    "The effect for casual users seems to be less pronounced (?). That might be because casual users that keeps using the bikes decide to switch to a membership (think of it as a nuturing process from the company: reach users, make them try as casual users, fidelize them and get them to sign for a membership. Then repeat.)."
   ]
  },
  {
   "cell_type": "markdown",
   "metadata": {},
   "source": [
    "### Fourier Analysis of the target variables"
   ]
  },
  {
   "cell_type": "code",
   "execution_count": null,
   "metadata": {},
   "outputs": [],
   "source": [
    "df = train['2011-05']['count'].copy()\n",
    "df = df.reset_index(drop=True)"
   ]
  },
  {
   "cell_type": "code",
   "execution_count": null,
   "metadata": {},
   "outputs": [],
   "source": [
    "f, Pxx_den = signal.periodogram(df.values.ravel())\n",
    "plt.semilogy(f, Pxx_den)\n",
    "plt.ylim([1e1, 1e7])\n",
    "plt.xlabel('frequency [h**-1]')\n",
    "plt.ylabel('PSD [V**2/Hz]')\n",
    "plt.show()"
   ]
  },
  {
   "cell_type": "markdown",
   "metadata": {},
   "source": [
    "# Feature engineering"
   ]
  },
  {
   "cell_type": "markdown",
   "metadata": {},
   "source": [
    "### Create a cyclic variable for the hour of the day"
   ]
  },
  {
   "cell_type": "code",
   "execution_count": null,
   "metadata": {},
   "outputs": [],
   "source": [
    "train['hour_cos'] = np.cos(2.0 * np.pi * train['hour'] / 24.0)"
   ]
  },
  {
   "cell_type": "code",
   "execution_count": null,
   "metadata": {},
   "outputs": [],
   "source": [
    "corr_matrix = train.corr()\n",
    "fig = plt.figure(figsize=(15,10))\n",
    "sns.heatmap(corr_matrix, annot=True)"
   ]
  },
  {
   "cell_type": "markdown",
   "metadata": {},
   "source": [
    "Strong correlation between features:\n",
    " - temp and atemp... obvious. Must do something! (pick one)\n",
    " - windspeed and humidity (-0.32)\n",
    " - humidity and weather (0.41)\n",
    " - temp/atemp and season (0.26)\n",
    " - humidity and season (0.19)\n",
    " - workingday and holiday\n",
    " \n",
    " Now with the target variable:\n",
    " - season (0.16)\n",
    " - weather (-0.13)\n",
    " - temp/atemp (0.39)\n",
    " - humidity (-0.32)\n",
    " \n",
    " <font color=red>Try to turn categorical features (season, weather) into binary features (OneHotEncoding).\n",
    "    Try to use KBinarizer for continuous features (temp/atemp, humidity, windspeed)"
   ]
  },
  {
   "cell_type": "code",
   "execution_count": null,
   "metadata": {},
   "outputs": [],
   "source": [
    "train.plot(kind='scatter', x='temp', y='atemp', marker='o')\n",
    "plt.savefig('./../../figs/atemp_vs_temp.png')\n",
    "plt.show()"
   ]
  },
  {
   "cell_type": "markdown",
   "metadata": {},
   "source": [
    "First we can see outliers for which temp is in the range [25, 35] but atemp is always about 12.\n",
    "<font color=red>If relation for atemp can be found, recalculate it myself, otherwise: remove entries with outliers or use temp.</font>\n",
    "\n",
    "Second, there is a few points that seem to lie on a straight line: atemp = a*temp+b\n",
    "<font color=red>Find the equation of the line, remove those points and thry to understand how the other points are obtained (linear regression using humidity and windspeed).</font>\n",
    "\n",
    "Third, it seems that in the range temp = [15, 25], there is no other features explaining atemp."
   ]
  },
  {
   "cell_type": "markdown",
   "metadata": {},
   "source": [
    "## Creating a feature 'vacations'"
   ]
  },
  {
   "cell_type": "code",
   "execution_count": null,
   "metadata": {},
   "outputs": [],
   "source": [
    "train['vacations'] = 0\n",
    "\n",
    "train.loc['2011-04-15':'2011-04-25', 'vacations'] = 1\n",
    "train.loc['2011-06-25':'2011-08-21', 'vacations'] = 1\n",
    "train.loc['2011-12-22':'2012-01-02', 'vacations'] = 1\n",
    "train.loc['2012-03-31':'2012-04-09', 'vacations'] = 1\n",
    "train.loc['2012-06-23':'2012-08-26', 'vacations'] = 1\n",
    "train.loc['2012-12-22':'2012-12-31', 'vacations'] = 1"
   ]
  },
  {
   "cell_type": "code",
   "execution_count": null,
   "metadata": {},
   "outputs": [],
   "source": [
    "fig, ax = plt.subplots(2, 2, figsize=(16,9))\n",
    "train.groupby('vacations')['count'].mean().plot(kind='bar', ax=ax[0][0])\n",
    "train.boxplot(column='casual', by='vacations', ax=ax[0][1])\n",
    "train.boxplot(column='registered', by='vacations', ax=ax[1][0])\n",
    "train.boxplot(column='count', by='vacations', ax=ax[1][1])\n",
    "plt.savefig('./../../figs/boxplot_gb_vacations.png')\n",
    "plt.show()"
   ]
  },
  {
   "cell_type": "markdown",
   "metadata": {},
   "source": [
    "Here it seems that the vacation feature impacts differently \"different group of people\". First, we see that the average demand is higher during vacations which might be due to tourists ? Also, we can notice an increase of the quantiles BUT the tail of the distributions are always shorter. The effect is more pronounced for casual users where the median almost increases by a factor of 2. Overall, the deman is higher and the distributions less skewed."
   ]
  },
  {
   "cell_type": "markdown",
   "metadata": {},
   "source": [
    "# Conclusions"
   ]
  },
  {
   "cell_type": "markdown",
   "metadata": {},
   "source": [
    "Using the holiday feature, we learnt that the program is from Washington DC.\n",
    "\n",
    "What we noticed is that despite the obvious correlation between the target variable and some of the features (months, year, hour of the day, temperature, ...) it would be hard for a linear regression model to have predictive power because there is no linear relationship between the target variable(s) and the features.\n",
    "The only way to make it work would be to OneHot encode all of the features (after discretization for continuous variables) which would lead to a very large number of parameters.\n",
    "\n",
    "Something important to keep in mind is that we should use the hour, day, month and year as predictors since the target variable(s) strongly depends on these.\n",
    "\n",
    "There is something strange going on with the 'temp' and 'atemp' features. We never observe negative temperatures. We don't know how the 'atemp' variable is obtained and 'atemp' seems to have bad values. For the model, it will be necessary to either use 'temp' or 'atemp' after removing the bad values or correcting them. \n",
    "\n",
    "Finally, it seems that adding a binary feature for school vacations could improve the performances of the model."
   ]
  },
  {
   "cell_type": "markdown",
   "metadata": {},
   "source": [
    "## Check for gaps in the test data"
   ]
  },
  {
   "cell_type": "code",
   "execution_count": null,
   "metadata": {},
   "outputs": [],
   "source": [
    "test.set_index(pd.to_datetime(test.pop('datetime')), inplace=True)"
   ]
  },
  {
   "cell_type": "code",
   "execution_count": null,
   "metadata": {},
   "outputs": [],
   "source": [
    "test['delta_t'] = test.index.to_series().diff()"
   ]
  },
  {
   "cell_type": "code",
   "execution_count": null,
   "metadata": {},
   "outputs": [],
   "source": [
    "test['delta_t'].fillna(pd.Timedelta('0 hour'))\n",
    "test[(test['delta_t']>pd.Timedelta('1 hours')) & (test['delta_t']< pd.Timedelta('1 days'))]['delta_t']"
   ]
  },
  {
   "cell_type": "markdown",
   "metadata": {},
   "source": [
    "It seems that in the test dataset, there is no entries with a total count of zero bikes. No need to create those rows to train the model."
   ]
  },
  {
   "cell_type": "code",
   "execution_count": null,
   "metadata": {},
   "outputs": [],
   "source": []
  }
 ],
 "metadata": {
  "kernelspec": {
   "display_name": "Python 3",
   "language": "python",
   "name": "python3"
  },
  "language_info": {
   "codemirror_mode": {
    "name": "ipython",
    "version": 3
   },
   "file_extension": ".py",
   "mimetype": "text/x-python",
   "name": "python",
   "nbconvert_exporter": "python",
   "pygments_lexer": "ipython3",
   "version": "3.7.7"
  }
 },
 "nbformat": 4,
 "nbformat_minor": 4
}
